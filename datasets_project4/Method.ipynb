{
 "cells": [
  {
   "cell_type": "code",
   "execution_count": 1,
   "metadata": {
    "collapsed": true
   },
   "outputs": [],
   "source": [
    "import requests\n",
    "import pandas as pd\n",
    "import json\n",
    "import seaborn as sns\n",
    "import matplotlib.pyplot as plt\n",
    "%matplotlib inline\n",
    "import numpy as np"
   ]
  },
  {
   "cell_type": "code",
   "execution_count": 2,
   "metadata": {
    "collapsed": true
   },
   "outputs": [],
   "source": [
    "sc1 = pd.read_csv('schools.csv')\n",
    "sc2 = pd.read_csv('schools_1.csv')\n",
    "sc3 = pd.read_csv('schools_2.csv')\n",
    "sc4 = pd.read_csv('schools_3.csv')\n",
    "sc5 = pd.read_csv('schools_4.csv')\n",
    "sc6 = pd.read_csv('schools_5.csv')\n",
    "sc7 = pd.read_csv('schools_6.csv')\n",
    "sc8 = pd.read_csv('schools_7.csv')\n",
    "sc9 = pd.read_csv('schools_8.csv')\n",
    "sc10 = pd.read_csv('schools_9.csv')\n",
    "sc11 = pd.read_csv('schools_10.csv')\n",
    "sc12 = pd.read_csv('schools_11.csv')\n",
    "sc13 = pd.read_csv('schools_12.csv')\n",
    "sc14 = pd.read_csv('schools_13.csv')\n",
    "sc15 = pd.read_csv('schools_14.csv')\n",
    "sc16 = pd.read_csv('schools_15.csv')\n",
    "sc17 = pd.read_csv('schools_16.csv')\n",
    "sc18 = pd.read_csv('schools_17.csv')\n",
    "sc19 = pd.read_csv('schools_18.csv')\n",
    "sc20 = pd.read_csv('schools_19.csv')\n",
    "sc21 = pd.read_csv('schools_20.csv')\n",
    "\n",
    "sc22 = pd.read_csv('schools21.csv')\n",
    "sc23 = pd.read_csv('schools22.csv')\n",
    "sc24 = pd.read_csv('schools23.csv')\n",
    "sc25 = pd.read_csv('schools24.csv')\n",
    "sc26 = pd.read_csv('schools25.csv')\n",
    "sc27 = pd.read_csv('schools26.csv')\n",
    "sc28 = pd.read_csv('schools27.csv')\n",
    "sc29 = pd.read_csv('schools28.csv')\n",
    "sc30 = pd.read_csv('schools29.csv')\n",
    "sc31 = pd.read_csv('schools30.csv')\n",
    "sc32 = pd.read_csv('schools31.csv')\n",
    "sc33 = pd.read_csv('schools32.csv')\n",
    "sc34 = pd.read_csv('schools33.csv')\n",
    "sc35 = pd.read_csv('schools34.csv')\n",
    "sc36 = pd.read_csv('schools35.csv')"
   ]
  },
  {
   "cell_type": "code",
   "execution_count": 3,
   "metadata": {
    "collapsed": true
   },
   "outputs": [],
   "source": [
    "df = pd.concat([sc1, sc2, sc3, sc4, sc5, sc6, sc7, sc8, sc9, sc10, sc11, sc12, sc13, sc14, sc15, sc16,\n",
    "               sc17, sc18, sc19, sc20, sc21, sc22, sc23, sc24, sc25, sc26, sc27, sc28, sc29, sc30, sc31,\n",
    "               sc32, sc33, sc34, sc35], ignore_index=True)"
   ]
  },
  {
   "cell_type": "code",
   "execution_count": null,
   "metadata": {
    "collapsed": true
   },
   "outputs": [],
   "source": []
  }
 ],
 "metadata": {
  "kernelspec": {
   "display_name": "Python 3",
   "language": "python",
   "name": "python3"
  },
  "language_info": {
   "codemirror_mode": {
    "name": "ipython",
    "version": 3
   },
   "file_extension": ".py",
   "mimetype": "text/x-python",
   "name": "python",
   "nbconvert_exporter": "python",
   "pygments_lexer": "ipython3",
   "version": "3.6.1"
  }
 },
 "nbformat": 4,
 "nbformat_minor": 2
}
