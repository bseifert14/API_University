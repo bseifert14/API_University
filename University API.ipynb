{
 "cells": [
  {
   "cell_type": "markdown",
   "metadata": {},
   "source": [
    "##### Ben Seifert. General Assembly Boston. November 30, 2017"
   ]
  },
  {
   "cell_type": "markdown",
   "metadata": {
    "collapsed": true
   },
   "source": [
    "### *Objective*\n",
    "\n",
    "This project was based around pulling data from a government website using an API. The reason I chose this was to familiarize myself with API's.\n",
    "I aim to do a few things with this data. I want to create a few Tableau visualizations that depict the data on a state by state basis. I then would like to create a classification from this data. I want to be able to classify each school as a 4-year or 2-year program. This is denoted in the data as 'school.institutional_characteristics.level'."
   ]
  },
  {
   "cell_type": "code",
   "execution_count": 1,
   "metadata": {
    "collapsed": true
   },
   "outputs": [],
   "source": [
    "import pandas as pd\n",
    "import numpy as np\n",
    "import seaborn as sns\n",
    "\n",
    "\n",
    "import matplotlib.pyplot as plt\n",
    "%matplotlib inline"
   ]
  },
  {
   "cell_type": "markdown",
   "metadata": {},
   "source": [
    "# Gathering Data"
   ]
  },
  {
   "cell_type": "markdown",
   "metadata": {},
   "source": [
    "Link used for api search: \n",
    "\n",
    "https://api.data.gov/ed/collegescorecard/v1/schools.csv?&_per_page=100&page=40&_fields=id,2013.completion.title_iv.completed_by.4yrs,school.state,school.degrees_awarded.highest,2013.student.size,2013.aid.federal_loan_rate,2013.aid.median_debt.male_students,2013.aid.median_debt.female_students,school.name,2013.aid.cumulative_debt.number,2013.earnings.6_yrs_after_entry.working_not_enrolled.overall,2013.earnings.6_yrs_after_entry.not_working_not_enrolled.overall,2013.completion.completion_rate_4yr_100nt,2013.completion.transfer_rate.4yr.full_time,school.institutional_characteristics.level&"
   ]
  },
  {
   "cell_type": "markdown",
   "metadata": {},
   "source": [
    "### *Import CSV files*"
   ]
  },
  {
   "cell_type": "code",
   "execution_count": 4,
   "metadata": {
    "collapsed": true
   },
   "outputs": [],
   "source": [
    "s1 = pd.read_csv('datasets_project4/schools (1).csv')\n",
    "s2 = pd.read_csv('datasets_project4/schools (2).csv')\n",
    "s3 = pd.read_csv('datasets_project4/schools (3).csv')\n",
    "s4 = pd.read_csv('datasets_project4/schools (4).csv')\n",
    "s5 = pd.read_csv('datasets_project4/schools (5).csv')\n",
    "s6 = pd.read_csv('datasets_project4/schools (6).csv')\n",
    "s7 = pd.read_csv('datasets_project4/schools (7).csv')\n",
    "s8 = pd.read_csv('datasets_project4/schools (8).csv')\n",
    "s9 = pd.read_csv('datasets_project4/schools (9).csv')\n",
    "s10 = pd.read_csv('datasets_project4/schools (10).csv')\n",
    "s11 = pd.read_csv('datasets_project4/schools (11).csv')\n",
    "s12 = pd.read_csv('datasets_project4/schools (12).csv')\n",
    "s13 = pd.read_csv('datasets_project4/schools (13).csv')\n",
    "s14 = pd.read_csv('datasets_project4/schools (14).csv')\n",
    "s15 = pd.read_csv('datasets_project4/schools (15).csv')\n",
    "s16 = pd.read_csv('datasets_project4/schools (16).csv')\n",
    "s17 = pd.read_csv('datasets_project4/schools (17).csv')\n",
    "s18 = pd.read_csv('datasets_project4/schools (18).csv')\n",
    "s19 = pd.read_csv('datasets_project4/schools (19).csv')\n",
    "s20 = pd.read_csv('datasets_project4/schools (20).csv')\n",
    "s21 = pd.read_csv('datasets_project4/schools (21).csv')\n",
    "s22 = pd.read_csv('datasets_project4/schools (22).csv')\n",
    "s23 = pd.read_csv('datasets_project4/schools (23).csv')\n",
    "s24 = pd.read_csv('datasets_project4/schools (24).csv')\n",
    "s25 = pd.read_csv('datasets_project4/schools (25).csv')\n",
    "s26 = pd.read_csv('datasets_project4/schools (26).csv')\n",
    "s27 = pd.read_csv('datasets_project4/schools (27).csv')\n",
    "s28 = pd.read_csv('datasets_project4/schools (28).csv')\n",
    "s29 = pd.read_csv('datasets_project4/schools (29).csv')\n",
    "s30 = pd.read_csv('datasets_project4/schools (30).csv')\n",
    "s31 = pd.read_csv('datasets_project4/schools (31).csv')\n",
    "s32 = pd.read_csv('datasets_project4/schools (32).csv')\n",
    "s33 = pd.read_csv('datasets_project4/schools (33).csv')\n",
    "s34 = pd.read_csv('datasets_project4/schools (34).csv')\n",
    "s35 = pd.read_csv('datasets_project4/schools (35).csv')\n",
    "s36 = pd.read_csv('datasets_project4/schools (36).csv')\n",
    "s37 = pd.read_csv('datasets_project4/schools (37).csv')\n",
    "s38 = pd.read_csv('datasets_project4/schools (38).csv')\n",
    "s39 = pd.read_csv('datasets_project4/schools (39).csv')\n",
    "s40 = pd.read_csv('datasets_project4/schools (40).csv')\n",
    "s41 = pd.read_csv('datasets_project4/schools (41).csv')\n",
    "s42 = pd.read_csv('datasets_project4/schools (42).csv')\n",
    "s43 = pd.read_csv('datasets_project4/schools (43).csv')\n",
    "s44 = pd.read_csv('datasets_project4/schools (44).csv')\n",
    "s45 = pd.read_csv('datasets_project4/schools (45).csv')\n",
    "s46 = pd.read_csv('datasets_project4/schools (46).csv')\n",
    "s47 = pd.read_csv('datasets_project4/schools (47).csv')\n",
    "s48 = pd.read_csv('datasets_project4/schools (48).csv')\n",
    "s49 = pd.read_csv('datasets_project4/schools (49).csv')\n",
    "s50 = pd.read_csv('datasets_project4/schools (50).csv')\n",
    "s51 = pd.read_csv('datasets_project4/schools (51).csv')\n",
    "s52 = pd.read_csv('datasets_project4/schools (52).csv')\n",
    "s53 = pd.read_csv('datasets_project4/schools (53).csv')\n",
    "s54 = pd.read_csv('datasets_project4/schools (54).csv')\n",
    "s55 = pd.read_csv('datasets_project4/schools (55).csv')\n",
    "s56 = pd.read_csv('datasets_project4/schools (56).csv')\n",
    "s57 = pd.read_csv('datasets_project4/schools (57).csv')\n",
    "s58 = pd.read_csv('datasets_project4/schools (58).csv')\n",
    "s59 = pd.read_csv('datasets_project4/schools (59).csv')\n",
    "s60 = pd.read_csv('datasets_project4/schools (60).csv')\n",
    "s61 = pd.read_csv('datasets_project4/schools (61).csv')\n",
    "s62 = pd.read_csv('datasets_project4/schools (62).csv')\n",
    "s63 = pd.read_csv('datasets_project4/schools (63).csv')\n",
    "s64 = pd.read_csv('datasets_project4/schools (64).csv')\n",
    "s65 = pd.read_csv('datasets_project4/schools (65).csv')\n",
    "s66 = pd.read_csv('datasets_project4/schools (66).csv')\n",
    "s67 = pd.read_csv('datasets_project4/schools (67).csv')\n",
    "s68 = pd.read_csv('datasets_project4/schools (68).csv')\n",
    "s69 = pd.read_csv('datasets_project4/schools (69).csv')\n",
    "s70 = pd.read_csv('datasets_project4/schools (70).csv')\n",
    "s71 = pd.read_csv('datasets_project4/schools (71).csv')\n",
    "s72 = pd.read_csv('datasets_project4/schools (72).csv')\n",
    "s73 = pd.read_csv('datasets_project4/schools (73).csv')\n",
    "s74 = pd.read_csv('datasets_project4/schools (74).csv')\n",
    "s75 = pd.read_csv('datasets_project4/schools (75).csv')\n"
   ]
  },
  {
   "cell_type": "markdown",
   "metadata": {},
   "source": [
    "### *Merge all CSV's into one big dataframe*"
   ]
  },
  {
   "cell_type": "code",
   "execution_count": 102,
   "metadata": {
    "collapsed": true
   },
   "outputs": [],
   "source": [
    "df = pd.concat([s1, s2, s3, s4, s5, s6, s7, s8, s9, s10, s11, s12, s13, s14, s15, s16, s17, s18, s19, s20, s21, s22, s23, s24, \n",
    "s25, s26, s27, s28,s29, s30, s31, s32, s33, s34, s35, s36, s37, s38, s39, s40, s41, s42, s43, s44, s45, s46, s47, \n",
    "s48, s49, s50, s51, s52, s53, s54, s55, s56, s57, s58, s59, s60, s61, s62, s63, s64, s65, s66, s67, s68, s69, s70, \n",
    "s71, s72, s73, s74, s75], ignore_index=True)"
   ]
  },
  {
   "cell_type": "code",
   "execution_count": 59,
   "metadata": {},
   "outputs": [
    {
     "data": {
      "text/plain": [
       "(7493, 15)"
      ]
     },
     "execution_count": 59,
     "metadata": {},
     "output_type": "execute_result"
    }
   ],
   "source": [
    "df.shape"
   ]
  },
  {
   "cell_type": "markdown",
   "metadata": {},
   "source": [
    "**7,493 rows and 15 columns.  This is a lot of data to work with.  Let's check the null values**"
   ]
  },
  {
   "cell_type": "code",
   "execution_count": 7,
   "metadata": {},
   "outputs": [
    {
     "data": {
      "text/plain": [
       "2013.aid.cumulative_debt.number                                     2133\n",
       "2013.aid.federal_loan_rate                                          2018\n",
       "2013.aid.median_debt.female_students                                3444\n",
       "2013.aid.median_debt.male_students                                  3444\n",
       "2013.completion.completion_rate_4yr_100nt                           6764\n",
       "2013.completion.title_iv.completed_by.4yrs                          2415\n",
       "2013.completion.transfer_rate.4yr.full_time                         6559\n",
       "2013.earnings.6_yrs_after_entry.not_working_not_enrolled.overall    3761\n",
       "2013.earnings.6_yrs_after_entry.working_not_enrolled.overall        2593\n",
       "2013.student.size                                                   1999\n",
       "id                                                                     0\n",
       "school.degrees_awarded.highest                                         0\n",
       "school.institutional_characteristics.level                             0\n",
       "school.name                                                            0\n",
       "school.state                                                           0\n",
       "dtype: int64"
      ]
     },
     "execution_count": 7,
     "metadata": {},
     "output_type": "execute_result"
    }
   ],
   "source": [
    "df.isnull().sum()"
   ]
  },
  {
   "cell_type": "markdown",
   "metadata": {},
   "source": [
    "**Unfortunately, it looks like we are going to have to drop two rows right now based off of lack of data.**"
   ]
  },
  {
   "cell_type": "code",
   "execution_count": 103,
   "metadata": {
    "collapsed": true
   },
   "outputs": [],
   "source": [
    "df = df.drop(['2013.completion.completion_rate_4yr_100nt', '2013.completion.transfer_rate.4yr.full_time'], axis=1)"
   ]
  },
  {
   "cell_type": "code",
   "execution_count": 73,
   "metadata": {},
   "outputs": [
    {
     "data": {
      "text/plain": [
       "2013.aid.cumulative_debt.number                                     2133\n",
       "2013.aid.federal_loan_rate                                          2018\n",
       "2013.aid.median_debt.female_students                                3444\n",
       "2013.aid.median_debt.male_students                                  3444\n",
       "2013.completion.title_iv.completed_by.4yrs                          2415\n",
       "2013.earnings.6_yrs_after_entry.not_working_not_enrolled.overall    3761\n",
       "2013.earnings.6_yrs_after_entry.working_not_enrolled.overall        2593\n",
       "2013.student.size                                                   1999\n",
       "id                                                                     0\n",
       "school.degrees_awarded.highest                                         0\n",
       "school.institutional_characteristics.level                             0\n",
       "school.name                                                            0\n",
       "school.state                                                           0\n",
       "dtype: int64"
      ]
     },
     "execution_count": 73,
     "metadata": {},
     "output_type": "execute_result"
    }
   ],
   "source": [
    "df.isnull().sum()"
   ]
  },
  {
   "cell_type": "markdown",
   "metadata": {},
   "source": [
    "**Now that the large amount of null values are out of here (they are definitely not all out, yet). Let's outline what we want to look at.**"
   ]
  },
  {
   "cell_type": "markdown",
   "metadata": {},
   "source": [
    "# Exploratory Data Analysis"
   ]
  },
  {
   "cell_type": "markdown",
   "metadata": {},
   "source": [
    "### *Rename Column Headers*"
   ]
  },
  {
   "cell_type": "code",
   "execution_count": 104,
   "metadata": {
    "collapsed": true
   },
   "outputs": [],
   "source": [
    "df = df.rename(columns={'school.state': 'state', \n",
    "                        'school.name': 'name',\n",
    "                        'school.degrees_awarded.highest': 'num_yrs_to_diploma',\n",
    "                        '2013.completion.title_iv.completed_by.4yrs': 'percentage_finished',\n",
    "                        '2013.student.size': 'num_students', \n",
    "                        '2013.aid.cumulative_debt.number': 'cumulative_debt',\n",
    "                        '2013.aid.federal_loan_rate': 'percent_on_fin_aid',\n",
    "                        '2013.aid.median_debt.female_students': 'F_median_debt',\n",
    "                        '2013.aid.median_debt.male_students': 'M_median_debt',\n",
    "                        '2013.earnings.6_yrs_after_entry.not_working_not_enrolled.overall': 'num_not_working_6yrs',\n",
    "                        '2013.earnings.6_yrs_after_entry.working_not_enrolled.overall': 'num_working_6yrs',\n",
    "                        'school.institutional_characteristics.level': 'two_or_four_year'})"
   ]
  },
  {
   "cell_type": "markdown",
   "metadata": {},
   "source": [
    "   This project was based around pulling data from an government website using an API.  The reason I chose this was to familiarize myself with API's.  Unfortunately when I tried to pull the data down as JSON, it was extremely messy beyond repair for the columns that I wanted.  Therefore, you will see my extreme amount of CSV pulls above (75 to be exact).\n",
    "   \n",
    "   I aim to do a few things with this data.  I want to create a few Tableau visualizations that depict the data on a state by state basis.  I then would like to create a classification from this data.  I want to be able to classify each school as a 4-year or 2-year program. This is denoted in the data as 'school.institutional_characteristics.level'. Results to come. Hope you enjoy!"
   ]
  },
  {
   "cell_type": "code",
   "execution_count": 75,
   "metadata": {},
   "outputs": [
    {
     "data": {
      "text/plain": [
       "Index(['cumulative_debt', 'percent_on_fin_aid', 'F_median_debt',\n",
       "       'M_median_debt', 'percentage_finished', 'num_not_working_6yrs',\n",
       "       'num_working_6yrs', 'num_students', 'id', 'num_yrs_to_diploma',\n",
       "       'two_or_four_year', 'name', 'state'],\n",
       "      dtype='object')"
      ]
     },
     "execution_count": 75,
     "metadata": {},
     "output_type": "execute_result"
    }
   ],
   "source": [
    "df.columns"
   ]
  },
  {
   "cell_type": "code",
   "execution_count": 54,
   "metadata": {},
   "outputs": [
    {
     "data": {
      "text/plain": [
       "(7493, 13)"
      ]
     },
     "execution_count": 54,
     "metadata": {},
     "output_type": "execute_result"
    }
   ],
   "source": [
    "df.shape"
   ]
  },
  {
   "cell_type": "markdown",
   "metadata": {},
   "source": [
    "### *Working with Null Values*"
   ]
  },
  {
   "cell_type": "code",
   "execution_count": 62,
   "metadata": {},
   "outputs": [
    {
     "data": {
      "text/plain": [
       "cumulative_debt         float64\n",
       "percent_on_fin_aid      float64\n",
       "F_median_debt           float64\n",
       "M_median_debt           float64\n",
       "percentage_finished     float64\n",
       "num_not_working_6yrs    float64\n",
       "num_working_6yrs        float64\n",
       "num_students            float64\n",
       "id                        int64\n",
       "num_yrs_to_diploma        int64\n",
       "two_or_four_year          int64\n",
       "name                     object\n",
       "state                    object\n",
       "dtype: object"
      ]
     },
     "execution_count": 62,
     "metadata": {},
     "output_type": "execute_result"
    }
   ],
   "source": [
    "df.dtypes"
   ]
  },
  {
   "cell_type": "code",
   "execution_count": 76,
   "metadata": {
    "scrolled": true
   },
   "outputs": [
    {
     "data": {
      "text/plain": [
       "cumulative_debt         2133\n",
       "percent_on_fin_aid      2018\n",
       "F_median_debt           3444\n",
       "M_median_debt           3444\n",
       "percentage_finished     2415\n",
       "num_not_working_6yrs    3761\n",
       "num_working_6yrs        2593\n",
       "num_students            1999\n",
       "id                         0\n",
       "num_yrs_to_diploma         0\n",
       "two_or_four_year           0\n",
       "name                       0\n",
       "state                      0\n",
       "dtype: int64"
      ]
     },
     "execution_count": 76,
     "metadata": {},
     "output_type": "execute_result"
    }
   ],
   "source": [
    "df.isnull().sum()"
   ]
  },
  {
   "cell_type": "markdown",
   "metadata": {},
   "source": [
    "#### Cumulative Debt"
   ]
  },
  {
   "cell_type": "code",
   "execution_count": 55,
   "metadata": {},
   "outputs": [
    {
     "data": {
      "text/plain": [
       "count      5360.000000\n",
       "mean       6148.873134\n",
       "std       21697.197772\n",
       "min          10.000000\n",
       "25%         264.000000\n",
       "50%        1028.000000\n",
       "75%        3512.000000\n",
       "max      285765.000000\n",
       "Name: cumulative_debt, dtype: float64"
      ]
     },
     "execution_count": 55,
     "metadata": {},
     "output_type": "execute_result"
    }
   ],
   "source": [
    "df.cumulative_debt.describe()"
   ]
  },
  {
   "cell_type": "code",
   "execution_count": 105,
   "metadata": {
    "collapsed": true
   },
   "outputs": [],
   "source": [
    "df.dropna(subset=['cumulative_debt'], inplace=True)"
   ]
  },
  {
   "cell_type": "markdown",
   "metadata": {},
   "source": [
    "#### Financial Aid Percentage"
   ]
  },
  {
   "cell_type": "code",
   "execution_count": 81,
   "metadata": {},
   "outputs": [
    {
     "data": {
      "text/plain": [
       "count    4697.000000\n",
       "mean        0.574557\n",
       "std         0.244259\n",
       "min         0.000000\n",
       "25%         0.417400\n",
       "50%         0.612100\n",
       "75%         0.763500\n",
       "max         1.000000\n",
       "Name: percent_on_fin_aid, dtype: float64"
      ]
     },
     "execution_count": 81,
     "metadata": {},
     "output_type": "execute_result"
    }
   ],
   "source": [
    "df.percent_on_fin_aid.describe()"
   ]
  },
  {
   "cell_type": "code",
   "execution_count": 106,
   "metadata": {
    "collapsed": true
   },
   "outputs": [],
   "source": [
    "df.dropna(subset=['percent_on_fin_aid'], inplace=True)"
   ]
  },
  {
   "cell_type": "markdown",
   "metadata": {},
   "source": [
    "#### Male & Female Median Debt"
   ]
  },
  {
   "cell_type": "code",
   "execution_count": 84,
   "metadata": {},
   "outputs": [
    {
     "data": {
      "text/plain": [
       "count     3556.000000\n",
       "mean     10499.664370\n",
       "std       5207.211737\n",
       "min       1750.000000\n",
       "25%       6332.000000\n",
       "50%       9500.000000\n",
       "75%      13291.000000\n",
       "max      35000.000000\n",
       "Name: M_median_debt, dtype: float64"
      ]
     },
     "execution_count": 84,
     "metadata": {},
     "output_type": "execute_result"
    }
   ],
   "source": [
    "df.M_median_debt.describe()"
   ]
  },
  {
   "cell_type": "code",
   "execution_count": 85,
   "metadata": {},
   "outputs": [
    {
     "data": {
      "text/plain": [
       "count     3556.000000\n",
       "mean     11251.512795\n",
       "std       5487.629397\n",
       "min       1610.000000\n",
       "25%       6803.375000\n",
       "50%       9500.000000\n",
       "75%      14750.000000\n",
       "max      39875.000000\n",
       "Name: F_median_debt, dtype: float64"
      ]
     },
     "execution_count": 85,
     "metadata": {},
     "output_type": "execute_result"
    }
   ],
   "source": [
    "df.F_median_debt.describe()"
   ]
  },
  {
   "cell_type": "code",
   "execution_count": 107,
   "metadata": {
    "collapsed": true
   },
   "outputs": [],
   "source": [
    "df.dropna(subset=['M_median_debt'], inplace=True)"
   ]
  },
  {
   "cell_type": "markdown",
   "metadata": {},
   "source": [
    "*Dropping the male null values also dropped Female. We can infer that where Male data was not inputed, so to wasn't Female Data.*"
   ]
  },
  {
   "cell_type": "markdown",
   "metadata": {},
   "source": [
    "#### Percentage Finished"
   ]
  },
  {
   "cell_type": "code",
   "execution_count": 90,
   "metadata": {},
   "outputs": [
    {
     "data": {
      "text/plain": [
       "count    3455.000000\n",
       "mean        0.425376\n",
       "std         0.211538\n",
       "min         0.001920\n",
       "25%         0.248659\n",
       "50%         0.423894\n",
       "75%         0.589345\n",
       "max         0.943311\n",
       "Name: percentage_finished, dtype: float64"
      ]
     },
     "execution_count": 90,
     "metadata": {},
     "output_type": "execute_result"
    }
   ],
   "source": [
    "df.percentage_finished.describe()"
   ]
  },
  {
   "cell_type": "code",
   "execution_count": 108,
   "metadata": {
    "collapsed": true
   },
   "outputs": [],
   "source": [
    "df.dropna(subset=['percentage_finished'], inplace=True)"
   ]
  },
  {
   "cell_type": "markdown",
   "metadata": {},
   "source": [
    "#### Number of students (not) wroking 6 years out of school "
   ]
  },
  {
   "cell_type": "code",
   "execution_count": 93,
   "metadata": {},
   "outputs": [
    {
     "data": {
      "text/plain": [
       "count     2693.000000\n",
       "mean       625.840327\n",
       "std       3237.619868\n",
       "min         25.000000\n",
       "25%         71.000000\n",
       "50%        170.000000\n",
       "75%        403.000000\n",
       "max      40061.000000\n",
       "Name: num_not_working_6yrs, dtype: float64"
      ]
     },
     "execution_count": 93,
     "metadata": {},
     "output_type": "execute_result"
    }
   ],
   "source": [
    "df.num_not_working_6yrs.describe()"
   ]
  },
  {
   "cell_type": "code",
   "execution_count": 94,
   "metadata": {},
   "outputs": [
    {
     "data": {
      "text/plain": [
       "count      3221.000000\n",
       "mean       2958.447998\n",
       "std       13770.816245\n",
       "min          52.000000\n",
       "25%         407.000000\n",
       "50%         922.000000\n",
       "75%        2325.000000\n",
       "max      185887.000000\n",
       "Name: num_working_6yrs, dtype: float64"
      ]
     },
     "execution_count": 94,
     "metadata": {},
     "output_type": "execute_result"
    }
   ],
   "source": [
    "df.num_working_6yrs.describe()"
   ]
  },
  {
   "cell_type": "code",
   "execution_count": 109,
   "metadata": {
    "collapsed": true
   },
   "outputs": [],
   "source": [
    "df.dropna(subset=['num_not_working_6yrs'], inplace=True)"
   ]
  },
  {
   "cell_type": "markdown",
   "metadata": {},
   "source": [
    "*And again, we have two columns that line up with eachother nicely.*"
   ]
  },
  {
   "cell_type": "code",
   "execution_count": 110,
   "metadata": {
    "scrolled": false
   },
   "outputs": [
    {
     "data": {
      "text/plain": [
       "cumulative_debt         0\n",
       "percent_on_fin_aid      0\n",
       "F_median_debt           0\n",
       "M_median_debt           0\n",
       "percentage_finished     0\n",
       "num_not_working_6yrs    0\n",
       "num_working_6yrs        0\n",
       "num_students            0\n",
       "id                      0\n",
       "num_yrs_to_diploma      0\n",
       "two_or_four_year        0\n",
       "name                    0\n",
       "state                   0\n",
       "dtype: int64"
      ]
     },
     "execution_count": 110,
     "metadata": {},
     "output_type": "execute_result"
    }
   ],
   "source": [
    "df.isnull().sum()"
   ]
  },
  {
   "cell_type": "markdown",
   "metadata": {},
   "source": [
    "### *Drop Unwanted Data*"
   ]
  },
  {
   "cell_type": "markdown",
   "metadata": {},
   "source": [
    "**Drop all of the data that is:** \n",
    "\n",
    "**--> less than a two year program**\n",
    "\n",
    "**--> school size less than 1,000**"
   ]
  },
  {
   "cell_type": "markdown",
   "metadata": {},
   "source": [
    "The typical number of semester units required for a Bachelor's degree is 120. Three years is 6 normal semesters + 2 summer sessions. 120/8 = 15. If you take 15 units per semester and 15 units during each summer session, you can graduate in 3 years. But it is very unlikely for any student to do this."
   ]
  },
  {
   "cell_type": "code",
   "execution_count": 111,
   "metadata": {
    "collapsed": true
   },
   "outputs": [],
   "source": [
    "df = df[df.num_yrs_to_diploma > 3]"
   ]
  },
  {
   "cell_type": "code",
   "execution_count": 112,
   "metadata": {},
   "outputs": [
    {
     "data": {
      "text/plain": [
       "(953, 13)"
      ]
     },
     "execution_count": 112,
     "metadata": {},
     "output_type": "execute_result"
    }
   ],
   "source": [
    "df.shape"
   ]
  },
  {
   "cell_type": "code",
   "execution_count": 113,
   "metadata": {
    "collapsed": true
   },
   "outputs": [],
   "source": [
    "df = df[df.num_students > 1000]"
   ]
  },
  {
   "cell_type": "code",
   "execution_count": 114,
   "metadata": {},
   "outputs": [
    {
     "data": {
      "text/plain": [
       "(808, 13)"
      ]
     },
     "execution_count": 114,
     "metadata": {},
     "output_type": "execute_result"
    }
   ],
   "source": [
    "df.shape"
   ]
  },
  {
   "cell_type": "markdown",
   "metadata": {},
   "source": [
    "### *Visualize the Data*"
   ]
  },
  {
   "cell_type": "code",
   "execution_count": 137,
   "metadata": {},
   "outputs": [
    {
     "data": {
      "image/png": "[encoded data removed]",
      "text/plain": [
       "<matplotlib.figure.Figure at 0x121a7b2e8>"
      ]
     },
     "metadata": {},
     "output_type": "display_data"
    }
   ],
   "source": [
    "plt.hist(df.cumulative_debt)\n",
    "plt.title('Debt in Numbers')\n",
    "plt.draw()"
   ]
  },
  {
   "cell_type": "code",
   "execution_count": 136,
   "metadata": {},
   "outputs": [
    {
     "data": {
      "image/png": "[encoded data removed]",
      "text/plain": [
       "<matplotlib.figure.Figure at 0x121581b70>"
      ]
     },
     "metadata": {},
     "output_type": "display_data"
    }
   ],
   "source": [
    "plt.hist(df.percent_on_fin_aid)\n",
    "plt.title('Percentage of Students on Financial Aid')\n",
    "plt.draw()"
   ]
  },
  {
   "cell_type": "code",
   "execution_count": 130,
   "metadata": {},
   "outputs": [
    {
     "data": {
      "image/png": "[encoded data removed]",
      "text/plain": [
       "<matplotlib.figure.Figure at 0x1213526a0>"
      ]
     },
     "metadata": {},
     "output_type": "display_data"
    }
   ],
   "source": [
    "plt.hist(df.F_median_debt)\n",
    "plt.title('Median Debt of Females')\n",
    "plt.draw()"
   ]
  },
  {
   "cell_type": "code",
   "execution_count": 131,
   "metadata": {},
   "outputs": [
    {
     "data": {
      "image/png": "[encoded data removed]",
      "text/plain": [
       "<matplotlib.figure.Figure at 0x121464630>"
      ]
     },
     "metadata": {},
     "output_type": "display_data"
    }
   ],
   "source": [
    "plt.hist(df.M_median_debt)\n",
    "plt.title('Median Debt of Males')\n",
    "plt.draw()"
   ]
  },
  {
   "cell_type": "code",
   "execution_count": 132,
   "metadata": {},
   "outputs": [
    {
     "data": {
      "image/png": "[encoded data removed]",
      "text/plain": [
       "<matplotlib.figure.Figure at 0x12134c0f0>"
      ]
     },
     "metadata": {},
     "output_type": "display_data"
    }
   ],
   "source": [
    "plt.hist(df.percentage_finished)\n",
    "plt.title('Percentage of Students that Finished')\n",
    "plt.draw()"
   ]
  },
  {
   "cell_type": "code",
   "execution_count": 133,
   "metadata": {},
   "outputs": [
    {
     "data": {
      "image/png": "[encoded data removed]",
      "text/plain": [
       "<matplotlib.figure.Figure at 0x1215a40f0>"
      ]
     },
     "metadata": {},
     "output_type": "display_data"
    }
   ],
   "source": [
    "plt.hist(df.num_not_working_6yrs)\n",
    "plt.title('Number of Students Not Working/Not Enrolled 6 Years Out of School')\n",
    "plt.draw()"
   ]
  },
  {
   "cell_type": "code",
   "execution_count": 134,
   "metadata": {},
   "outputs": [
    {
     "data": {
      "image/png": "[encoded data removed]",
      "text/plain": [
       "<matplotlib.figure.Figure at 0x1216b5d68>"
      ]
     },
     "metadata": {},
     "output_type": "display_data"
    }
   ],
   "source": [
    "plt.hist(df.num_working_6yrs)\n",
    "plt.title('Number of Students Working/Not Enrolled 6 Years Out of School')\n",
    "plt.draw()"
   ]
  },
  {
   "cell_type": "markdown",
   "metadata": {},
   "source": [
    "*This looks weird, I don't think the data would be that high for number of students not working.  I'm going to drop the row that has above 15,000 for Not Working and above 75,000 for Working.*"
   ]
  },
  {
   "cell_type": "code",
   "execution_count": 139,
   "metadata": {
    "collapsed": true,
    "scrolled": true
   },
   "outputs": [],
   "source": [
    "df = df[df.num_working_6yrs <= 75000]"
   ]
  },
  {
   "cell_type": "code",
   "execution_count": 140,
   "metadata": {
    "collapsed": true
   },
   "outputs": [],
   "source": [
    "df = df[df.num_not_working_6yrs <= 15000]"
   ]
  },
  {
   "cell_type": "code",
   "execution_count": 141,
   "metadata": {},
   "outputs": [
    {
     "data": {
      "image/png": "[encoded data removed]",
      "text/plain": [
       "<matplotlib.figure.Figure at 0x121b36f98>"
      ]
     },
     "metadata": {},
     "output_type": "display_data"
    }
   ],
   "source": [
    "plt.hist(df.num_not_working_6yrs)\n",
    "plt.title('Number of Students Not Working/Not Enrolled 6 Years Out of School')\n",
    "plt.draw()"
   ]
  },
  {
   "cell_type": "code",
   "execution_count": 142,
   "metadata": {},
   "outputs": [
    {
     "data": {
      "image/png": "[encoded data removed]",
      "text/plain": [
       "<matplotlib.figure.Figure at 0x12190be48>"
      ]
     },
     "metadata": {},
     "output_type": "display_data"
    }
   ],
   "source": [
    "plt.hist(df.num_working_6yrs)\n",
    "plt.title('Number of Students Working/Not Enrolled 6 Years Out of School')\n",
    "plt.draw()"
   ]
  },
  {
   "cell_type": "code",
   "execution_count": 135,
   "metadata": {},
   "outputs": [
    {
     "data": {
      "image/png": "[encoded data removed]",
      "text/plain": [
       "<matplotlib.figure.Figure at 0x1216ec7b8>"
      ]
     },
     "metadata": {},
     "output_type": "display_data"
    }
   ],
   "source": [
    "plt.hist(df.num_students)\n",
    "plt.title('Distribution of the Number of Students')\n",
    "plt.draw()"
   ]
  },
  {
   "cell_type": "code",
   "execution_count": 148,
   "metadata": {},
   "outputs": [
    {
     "data": {
      "image/png": "[encoded data removed]",
      "text/plain": [
       "<matplotlib.figure.Figure at 0x12194a198>"
      ]
     },
     "metadata": {},
     "output_type": "display_data"
    }
   ],
   "source": [
    "plt.hist(df.num_yrs_to_diploma)\n",
    "plt.title('Number of Years to Diploma')\n",
    "plt.draw()"
   ]
  },
  {
   "cell_type": "markdown",
   "metadata": {},
   "source": [
    "We will have to rerun the data when we do a classifier but this is all set up for Tableau now."
   ]
  },
  {
   "cell_type": "code",
   "execution_count": null,
   "metadata": {
    "collapsed": true
   },
   "outputs": [],
   "source": [
    "df.loc[:,'percentage_finished'] *= 100"
   ]
  },
  {
   "cell_type": "code",
   "execution_count": 150,
   "metadata": {
    "collapsed": true
   },
   "outputs": [],
   "source": [
    "df.to_csv('final_tableau_data.csv')"
   ]
  },
  {
   "cell_type": "markdown",
   "metadata": {},
   "source": [
    "### Tableau Link"
   ]
  },
  {
   "cell_type": "markdown",
   "metadata": {},
   "source": [
    "https://public.tableau.com/profile/ben.seifert#!/vizhome/shared/666N9PP26"
   ]
  },
  {
   "cell_type": "markdown",
   "metadata": {},
   "source": [
    "# Classification"
   ]
  },
  {
   "cell_type": "markdown",
   "metadata": {},
   "source": [
    "For the sake of brevity, I am going to make a new dataframe with the exact same specs as the one above.  The only difference is that I am trying to predict two year or four year college so I will not take out schools below three.  Rather I will take out 1 and 3 year schools."
   ]
  },
  {
   "cell_type": "code",
   "execution_count": 153,
   "metadata": {
    "collapsed": true
   },
   "outputs": [],
   "source": [
    "# Merge Data into df (DATAFRAME)\n",
    "df = pd.concat([s1, s2, s3, s4, s5, s6, s7, s8, s9, s10, s11, s12, s13, s14, s15, s16, s17, s18, s19, s20, s21, s22, s23, s24, \n",
    "s25, s26, s27, s28,s29, s30, s31, s32, s33, s34, s35, s36, s37, s38, s39, s40, s41, s42, s43, s44, s45, s46, s47, \n",
    "s48, s49, s50, s51, s52, s53, s54, s55, s56, s57, s58, s59, s60, s61, s62, s63, s64, s65, s66, s67, s68, s69, s70, \n",
    "s71, s72, s73, s74, s75], ignore_index=True)"
   ]
  },
  {
   "cell_type": "code",
   "execution_count": 154,
   "metadata": {
    "collapsed": true
   },
   "outputs": [],
   "source": [
    "# Drop columns that are essentially useless\n",
    "df = df.drop(['2013.completion.completion_rate_4yr_100nt', '2013.completion.transfer_rate.4yr.full_time'], axis=1)\n",
    "\n",
    "\n",
    "\n",
    "# Rename Column Headers\n",
    "df = df.rename(columns={'school.state': 'state', \n",
    "                        'school.name': 'name',\n",
    "                        'school.degrees_awarded.highest': 'num_yrs_to_diploma',\n",
    "                        '2013.completion.title_iv.completed_by.4yrs': 'percentage_finished',\n",
    "                        '2013.student.size': 'num_students', \n",
    "                        '2013.aid.cumulative_debt.number': 'cumulative_debt',\n",
    "                        '2013.aid.federal_loan_rate': 'percent_on_fin_aid',\n",
    "                        '2013.aid.median_debt.female_students': 'F_median_debt',\n",
    "                        '2013.aid.median_debt.male_students': 'M_median_debt',\n",
    "                        '2013.earnings.6_yrs_after_entry.not_working_not_enrolled.overall': 'num_not_working_6yrs',\n",
    "                        '2013.earnings.6_yrs_after_entry.working_not_enrolled.overall': 'num_working_6yrs',\n",
    "                        'school.institutional_characteristics.level': 'two_or_four_year'})\n",
    "\n",
    "\n",
    "\n",
    "# Drop null Values\n",
    "df.dropna(subset=['cumulative_debt'], inplace=True)\n",
    "df.dropna(subset=['percent_on_fin_aid'], inplace=True)\n",
    "df.dropna(subset=['M_median_debt'], inplace=True)\n",
    "df.dropna(subset=['percentage_finished'], inplace=True)\n",
    "df.dropna(subset=['num_not_working_6yrs'], inplace=True)\n",
    "\n",
    "\n",
    "\n",
    "# Subset the data to be enrollment larger than 1,000 students\n",
    "df = df[df.num_students > 1000]"
   ]
  },
  {
   "cell_type": "markdown",
   "metadata": {},
   "source": [
    "Now that I have the data ready to go, all that I need to do is delete rows where the number of years to completion (i.e. whether it is a 1, 2, 3, 4 year school to diploma) down so that only 2 and 4 are showing."
   ]
  },
  {
   "cell_type": "markdown",
   "metadata": {},
   "source": [
    "### Drop the rows where df.num_yrs_to_diploma = 1 or 3"
   ]
  },
  {
   "cell_type": "code",
   "execution_count": 164,
   "metadata": {
    "collapsed": true
   },
   "outputs": [],
   "source": [
    "df_class = df[(df['num_yrs_to_diploma'] != 1) & (df['num_yrs_to_diploma'] != 3)]"
   ]
  },
  {
   "cell_type": "code",
   "execution_count": 165,
   "metadata": {},
   "outputs": [
    {
     "data": {
      "text/html": [
       "<div>\n",
       "<style>\n",
       "    .dataframe thead tr:only-child th {\n",
       "        text-align: right;\n",
       "    }\n",
       "\n",
       "    .dataframe thead th {\n",
       "        text-align: left;\n",
       "    }\n",
       "\n",
       "    .dataframe tbody tr th {\n",
       "        vertical-align: top;\n",
       "    }\n",
       "</style>\n",
       "<table border=\"1\" class=\"dataframe\">\n",
       "  <thead>\n",
       "    <tr style=\"text-align: right;\">\n",
       "      <th></th>\n",
       "      <th>cumulative_debt</th>\n",
       "      <th>percent_on_fin_aid</th>\n",
       "      <th>F_median_debt</th>\n",
       "      <th>M_median_debt</th>\n",
       "      <th>percentage_finished</th>\n",
       "      <th>num_not_working_6yrs</th>\n",
       "      <th>num_working_6yrs</th>\n",
       "      <th>num_students</th>\n",
       "      <th>id</th>\n",
       "      <th>num_yrs_to_diploma</th>\n",
       "      <th>two_or_four_year</th>\n",
       "      <th>name</th>\n",
       "      <th>state</th>\n",
       "    </tr>\n",
       "  </thead>\n",
       "  <tbody>\n",
       "    <tr>\n",
       "      <th>652</th>\n",
       "      <td>1424.0</td>\n",
       "      <td>0.2737</td>\n",
       "      <td>3500.0</td>\n",
       "      <td>3500.0</td>\n",
       "      <td>0.056518</td>\n",
       "      <td>380.0</td>\n",
       "      <td>1273.0</td>\n",
       "      <td>2022.0</td>\n",
       "      <td>447582</td>\n",
       "      <td>2</td>\n",
       "      <td>2</td>\n",
       "      <td>New River Community and Technical College</td>\n",
       "      <td>WV</td>\n",
       "    </tr>\n",
       "    <tr>\n",
       "      <th>656</th>\n",
       "      <td>21989.0</td>\n",
       "      <td>0.8960</td>\n",
       "      <td>9500.0</td>\n",
       "      <td>9020.0</td>\n",
       "      <td>0.266395</td>\n",
       "      <td>4801.0</td>\n",
       "      <td>20057.0</td>\n",
       "      <td>10103.0</td>\n",
       "      <td>445027</td>\n",
       "      <td>4</td>\n",
       "      <td>1</td>\n",
       "      <td>American InterContinental University-Online</td>\n",
       "      <td>IL</td>\n",
       "    </tr>\n",
       "    <tr>\n",
       "      <th>663</th>\n",
       "      <td>399.0</td>\n",
       "      <td>0.0311</td>\n",
       "      <td>5438.5</td>\n",
       "      <td>4500.0</td>\n",
       "      <td>0.072943</td>\n",
       "      <td>224.0</td>\n",
       "      <td>637.0</td>\n",
       "      <td>7396.0</td>\n",
       "      <td>444219</td>\n",
       "      <td>2</td>\n",
       "      <td>2</td>\n",
       "      <td>Folsom Lake College</td>\n",
       "      <td>CA</td>\n",
       "    </tr>\n",
       "    <tr>\n",
       "      <th>698</th>\n",
       "      <td>2044.0</td>\n",
       "      <td>0.2937</td>\n",
       "      <td>12000.0</td>\n",
       "      <td>9500.0</td>\n",
       "      <td>0.517007</td>\n",
       "      <td>49.0</td>\n",
       "      <td>665.0</td>\n",
       "      <td>1624.0</td>\n",
       "      <td>445267</td>\n",
       "      <td>4</td>\n",
       "      <td>1</td>\n",
       "      <td>Central Methodist University-College of Gradua...</td>\n",
       "      <td>MO</td>\n",
       "    </tr>\n",
       "    <tr>\n",
       "      <th>726</th>\n",
       "      <td>1034.0</td>\n",
       "      <td>0.6434</td>\n",
       "      <td>7432.0</td>\n",
       "      <td>5917.0</td>\n",
       "      <td>0.710744</td>\n",
       "      <td>61.0</td>\n",
       "      <td>183.0</td>\n",
       "      <td>1062.0</td>\n",
       "      <td>442879</td>\n",
       "      <td>2</td>\n",
       "      <td>2</td>\n",
       "      <td>Southwest Institute of Healing Arts</td>\n",
       "      <td>AZ</td>\n",
       "    </tr>\n",
       "  </tbody>\n",
       "</table>\n",
       "</div>"
      ],
      "text/plain": [
       "     cumulative_debt  percent_on_fin_aid  F_median_debt  M_median_debt  \\\n",
       "652           1424.0              0.2737         3500.0         3500.0   \n",
       "656          21989.0              0.8960         9500.0         9020.0   \n",
       "663            399.0              0.0311         5438.5         4500.0   \n",
       "698           2044.0              0.2937        12000.0         9500.0   \n",
       "726           1034.0              0.6434         7432.0         5917.0   \n",
       "\n",
       "     percentage_finished  num_not_working_6yrs  num_working_6yrs  \\\n",
       "652             0.056518                 380.0            1273.0   \n",
       "656             0.266395                4801.0           20057.0   \n",
       "663             0.072943                 224.0             637.0   \n",
       "698             0.517007                  49.0             665.0   \n",
       "726             0.710744                  61.0             183.0   \n",
       "\n",
       "     num_students      id  num_yrs_to_diploma  two_or_four_year  \\\n",
       "652        2022.0  447582                   2                 2   \n",
       "656       10103.0  445027                   4                 1   \n",
       "663        7396.0  444219                   2                 2   \n",
       "698        1624.0  445267                   4                 1   \n",
       "726        1062.0  442879                   2                 2   \n",
       "\n",
       "                                                  name state  \n",
       "652          New River Community and Technical College    WV  \n",
       "656        American InterContinental University-Online    IL  \n",
       "663                                Folsom Lake College    CA  \n",
       "698  Central Methodist University-College of Gradua...    MO  \n",
       "726                Southwest Institute of Healing Arts    AZ  "
      ]
     },
     "execution_count": 165,
     "metadata": {},
     "output_type": "execute_result"
    }
   ],
   "source": [
    "df_class.head()"
   ]
  },
  {
   "cell_type": "code",
   "execution_count": 167,
   "metadata": {},
   "outputs": [
    {
     "data": {
      "text/plain": [
       "array([2, 4])"
      ]
     },
     "execution_count": 167,
     "metadata": {},
     "output_type": "execute_result"
    }
   ],
   "source": [
    "df_class.num_yrs_to_diploma.unique()"
   ]
  },
  {
   "cell_type": "markdown",
   "metadata": {},
   "source": [
    "### Encode target class to '0' for 2 year degree and '1' for 4 year degree schools"
   ]
  },
  {
   "cell_type": "code",
   "execution_count": 168,
   "metadata": {},
   "outputs": [
    {
     "name": "stderr",
     "output_type": "stream",
     "text": [
      "/Users/benjaminseifert/anaconda/lib/python3.6/site-packages/pandas/core/generic.py:2999: SettingWithCopyWarning: \n",
      "A value is trying to be set on a copy of a slice from a DataFrame.\n",
      "Try using .loc[row_indexer,col_indexer] = value instead\n",
      "\n",
      "See the caveats in the documentation: http://pandas.pydata.org/pandas-docs/stable/indexing.html#indexing-view-versus-copy\n",
      "  self[name] = value\n"
     ]
    }
   ],
   "source": [
    "df_class.num_yrs_to_diploma = df_class.num_yrs_to_diploma.map(lambda x: 0 if x == 2 else 1)"
   ]
  },
  {
   "cell_type": "code",
   "execution_count": 169,
   "metadata": {},
   "outputs": [
    {
     "data": {
      "text/plain": [
       "array([0, 1])"
      ]
     },
     "execution_count": 169,
     "metadata": {},
     "output_type": "execute_result"
    }
   ],
   "source": [
    "df_class.num_yrs_to_diploma.unique()"
   ]
  },
  {
   "cell_type": "markdown",
   "metadata": {},
   "source": [
    "### Examining the Correlation Matrix"
   ]
  },
  {
   "cell_type": "code",
   "execution_count": 233,
   "metadata": {
    "collapsed": true
   },
   "outputs": [],
   "source": [
    "df_class = df_class.apply(lambda x: pd.to_numeric(x,errors='ignore'))"
   ]
  },
  {
   "cell_type": "code",
   "execution_count": 234,
   "metadata": {},
   "outputs": [
    {
     "data": {
      "text/plain": [
       "cumulative_debt         float64\n",
       "percent_on_fin_aid      float64\n",
       "F_median_debt           float64\n",
       "M_median_debt           float64\n",
       "percentage_finished     float64\n",
       "num_not_working_6yrs    float64\n",
       "num_working_6yrs        float64\n",
       "num_students            float64\n",
       "id                        int64\n",
       "num_yrs_to_diploma        int64\n",
       "two_or_four_year          int64\n",
       "name                     object\n",
       "state                    object\n",
       "dtype: object"
      ]
     },
     "execution_count": 234,
     "metadata": {},
     "output_type": "execute_result"
    }
   ],
   "source": [
    "df_class.dtypes"
   ]
  },
  {
   "cell_type": "code",
   "execution_count": 173,
   "metadata": {},
   "outputs": [
    {
     "data": {
      "text/plain": [
       "<matplotlib.axes._subplots.AxesSubplot at 0x121729240>"
      ]
     },
     "execution_count": 173,
     "metadata": {},
     "output_type": "execute_result"
    },
    {
     "data": {
      "image/png": "[encoded data removed]",
      "text/plain": [
       "<matplotlib.figure.Figure at 0x1219e9198>"
      ]
     },
     "metadata": {},
     "output_type": "display_data"
    }
   ],
   "source": [
    "correlations = df_class.drop(['id', 'name', 'state'], axis=1).corr()\n",
    "\n",
    "mask = np.zeros_like(correlations, dtype=np.bool)\n",
    "mask[np.triu_indices_from(mask)] = True\n",
    "\n",
    "sns.heatmap(correlations, mask=mask)"
   ]
  },
  {
   "cell_type": "code",
   "execution_count": 260,
   "metadata": {
    "collapsed": true
   },
   "outputs": [],
   "source": [
    "from sklearn.neighbors import KNeighborsClassifier\n",
    "from sklearn.model_selection import StratifiedKFold\n",
    "from sklearn.preprocessing import StandardScaler\n",
    "from sklearn import metrics\n",
    "from sklearn.model_selection import train_test_split"
   ]
  },
  {
   "cell_type": "markdown",
   "metadata": {},
   "source": [
    "### Define Target Variables/ Predictor Variable"
   ]
  },
  {
   "cell_type": "code",
   "execution_count": 261,
   "metadata": {
    "collapsed": true
   },
   "outputs": [],
   "source": [
    "target = df_class.num_yrs_to_diploma\n",
    "X = df_class[['percent_on_fin_aid', 'F_median_debt', 'M_median_debt', 'percentage_finished']]"
   ]
  },
  {
   "cell_type": "markdown",
   "metadata": {},
   "source": [
    "### Create a Baseline"
   ]
  },
  {
   "cell_type": "code",
   "execution_count": 240,
   "metadata": {},
   "outputs": [
    {
     "data": {
      "text/plain": [
       "0.3943028485757122"
      ]
     },
     "execution_count": 240,
     "metadata": {},
     "output_type": "execute_result"
    }
   ],
   "source": [
    "1 - np.mean(target)"
   ]
  },
  {
   "cell_type": "markdown",
   "metadata": {},
   "source": [
    "### Create K-nearest Neighbor"
   ]
  },
  {
   "cell_type": "code",
   "execution_count": 258,
   "metadata": {},
   "outputs": [
    {
     "data": {
      "text/plain": [
       "KNeighborsClassifier(algorithm='auto', leaf_size=30, metric='minkowski',\n",
       "           metric_params=None, n_jobs=1, n_neighbors=4, p=2,\n",
       "           weights='uniform')"
      ]
     },
     "execution_count": 258,
     "metadata": {},
     "output_type": "execute_result"
    }
   ],
   "source": [
    "knn4 = KNeighborsClassifier(n_neighbors=4)\n",
    "knn4.fit(X, target)"
   ]
  },
  {
   "cell_type": "code",
   "execution_count": 262,
   "metadata": {
    "collapsed": true
   },
   "outputs": [],
   "source": [
    "X_train, X_test, y_train, y_test = train_test_split(X, target)"
   ]
  },
  {
   "cell_type": "code",
   "execution_count": 263,
   "metadata": {},
   "outputs": [
    {
     "data": {
      "text/plain": [
       "KNeighborsClassifier(algorithm='auto', leaf_size=30, metric='minkowski',\n",
       "           metric_params=None, n_jobs=1, n_neighbors=4, p=2,\n",
       "           weights='uniform')"
      ]
     },
     "execution_count": 263,
     "metadata": {},
     "output_type": "execute_result"
    }
   ],
   "source": [
    "knn4.fit(X_train, y_train)"
   ]
  },
  {
   "cell_type": "code",
   "execution_count": 264,
   "metadata": {
    "collapsed": true
   },
   "outputs": [],
   "source": [
    "y_predictions = knn4.predict(X_test)"
   ]
  },
  {
   "cell_type": "markdown",
   "metadata": {},
   "source": [
    "### Print Accuracy "
   ]
  },
  {
   "cell_type": "code",
   "execution_count": 265,
   "metadata": {},
   "outputs": [
    {
     "name": "stdout",
     "output_type": "stream",
     "text": [
      "0.925149700599\n"
     ]
    }
   ],
   "source": [
    "print(metrics.accuracy_score(y_test, y_predictions))"
   ]
  }
 ],
 "metadata": {
  "kernelspec": {
   "display_name": "Python 3",
   "language": "python",
   "name": "python3"
  },
  "language_info": {
   "codemirror_mode": {
    "name": "ipython",
    "version": 3
   },
   "file_extension": ".py",
   "mimetype": "text/x-python",
   "name": "python",
   "nbconvert_exporter": "python",
   "pygments_lexer": "ipython3",
   "version": "3.6.1"
  }
 },
 "nbformat": 4,
 "nbformat_minor": 2
}
